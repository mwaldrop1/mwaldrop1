{
  "nbformat": 4,
  "nbformat_minor": 0,
  "metadata": {
    "colab": {
      "provenance": [],
      "authorship_tag": "ABX9TyOFWZaNyQCiKRn8YWKkUx17",
      "include_colab_link": true
    },
    "kernelspec": {
      "name": "python3",
      "display_name": "Python 3"
    },
    "language_info": {
      "name": "python"
    }
  },
  "cells": [
    {
      "cell_type": "markdown",
      "metadata": {
        "id": "view-in-github",
        "colab_type": "text"
      },
      "source": [
        "<a href=\"https://colab.research.google.com/github/mwaldrop1/mwaldrop1/blob/main/AItrainingday3.ipynb\" target=\"_parent\"><img src=\"https://colab.research.google.com/assets/colab-badge.svg\" alt=\"Open In Colab\"/></a>"
      ]
    },
    {
      "cell_type": "code",
      "execution_count": 1,
      "metadata": {
        "colab": {
          "base_uri": "https://localhost:8080/"
        },
        "id": "G9G5RGAZpDah",
        "outputId": "21775d98-ca6e-424f-e3e3-05c9601a7960"
      },
      "outputs": [
        {
          "output_type": "stream",
          "name": "stdout",
          "text": [
            "6.1.123+\n"
          ]
        }
      ],
      "source": [
        "!uname -r"
      ]
    },
    {
      "cell_type": "code",
      "source": [
        "!cat /etc/os-release"
      ],
      "metadata": {
        "colab": {
          "base_uri": "https://localhost:8080/"
        },
        "id": "Yqxk9Gg_pZCH",
        "outputId": "9d4edff4-cdc7-4bc1-bf53-a3ef0e9ad110"
      },
      "execution_count": 3,
      "outputs": [
        {
          "output_type": "stream",
          "name": "stdout",
          "text": [
            "PRETTY_NAME=\"Ubuntu 22.04.4 LTS\"\n",
            "NAME=\"Ubuntu\"\n",
            "VERSION_ID=\"22.04\"\n",
            "VERSION=\"22.04.4 LTS (Jammy Jellyfish)\"\n",
            "VERSION_CODENAME=jammy\n",
            "ID=ubuntu\n",
            "ID_LIKE=debian\n",
            "HOME_URL=\"https://www.ubuntu.com/\"\n",
            "SUPPORT_URL=\"https://help.ubuntu.com/\"\n",
            "BUG_REPORT_URL=\"https://bugs.launchpad.net/ubuntu/\"\n",
            "PRIVACY_POLICY_URL=\"https://www.ubuntu.com/legal/terms-and-policies/privacy-policy\"\n",
            "UBUNTU_CODENAME=jammy\n"
          ]
        }
      ]
    },
    {
      "cell_type": "code",
      "source": [
        "import pandas as pd\n",
        "import numpy as np\n",
        "import matplotlib.pyplot as plt\n",
        "import seaborn as sns\n",
        "import tensorflow as tf\n",
        "from sklearn.preprocessing import MinMaxScaler\n",
        "from sklearn.model_selection import train_test_split"
      ],
      "metadata": {
        "id": "4FBga-nEpmfF"
      },
      "execution_count": 18,
      "outputs": []
    },
    {
      "cell_type": "code",
      "source": [
        "!python3 -V"
      ],
      "metadata": {
        "colab": {
          "base_uri": "https://localhost:8080/"
        },
        "id": "Rg0tg17mpwTX",
        "outputId": "6a1677e2-08ce-4928-fbdc-7fa48790b5b4"
      },
      "execution_count": 8,
      "outputs": [
        {
          "output_type": "stream",
          "name": "stdout",
          "text": [
            "Python 3.11.12\n"
          ]
        }
      ]
    },
    {
      "cell_type": "code",
      "source": [
        "df=pd.read_csv('https://raw.githubusercontent.com/redashu/Datasets/refs/heads/master/all_month.csv')\n",
        "df.info()"
      ],
      "metadata": {
        "colab": {
          "base_uri": "https://localhost:8080/"
        },
        "id": "JKD7LBevqUTI",
        "outputId": "12e7b085-cc79-406b-c677-69fb81d0da7c"
      },
      "execution_count": 10,
      "outputs": [
        {
          "output_type": "stream",
          "name": "stdout",
          "text": [
            "<class 'pandas.core.frame.DataFrame'>\n",
            "RangeIndex: 9593 entries, 0 to 9592\n",
            "Data columns (total 22 columns):\n",
            " #   Column           Non-Null Count  Dtype  \n",
            "---  ------           --------------  -----  \n",
            " 0   time             9593 non-null   object \n",
            " 1   latitude         9593 non-null   float64\n",
            " 2   longitude        9593 non-null   float64\n",
            " 3   depth            9593 non-null   float64\n",
            " 4   mag              9592 non-null   float64\n",
            " 5   magType          9592 non-null   object \n",
            " 6   nst              8018 non-null   float64\n",
            " 7   gap              8018 non-null   float64\n",
            " 8   dmin             8017 non-null   float64\n",
            " 9   rms              9592 non-null   float64\n",
            " 10  net              9593 non-null   object \n",
            " 11  id               9593 non-null   object \n",
            " 12  updated          9593 non-null   object \n",
            " 13  place            9593 non-null   object \n",
            " 14  type             9593 non-null   object \n",
            " 15  horizontalError  7317 non-null   float64\n",
            " 16  depthError       9592 non-null   float64\n",
            " 17  magError         7994 non-null   float64\n",
            " 18  magNst           8013 non-null   float64\n",
            " 19  status           9593 non-null   object \n",
            " 20  locationSource   9593 non-null   object \n",
            " 21  magSource        9593 non-null   object \n",
            "dtypes: float64(12), object(10)\n",
            "memory usage: 1.6+ MB\n"
          ]
        }
      ]
    },
    {
      "cell_type": "code",
      "source": [
        "#define features and label\n",
        "features = ['latitude','longitude','depth']\n",
        "target = 'mag'\n",
        "#dropping missing value\n",
        "df=df.dropna(subset=[target])"
      ],
      "metadata": {
        "id": "lcVotfymqrKJ"
      },
      "execution_count": 11,
      "outputs": []
    },
    {
      "cell_type": "code",
      "source": [
        "df.info()"
      ],
      "metadata": {
        "colab": {
          "base_uri": "https://localhost:8080/"
        },
        "id": "cjy6-JzprMS5",
        "outputId": "8a20abf4-8935-4220-9e67-3712fc8609e9"
      },
      "execution_count": 12,
      "outputs": [
        {
          "output_type": "stream",
          "name": "stdout",
          "text": [
            "<class 'pandas.core.frame.DataFrame'>\n",
            "Index: 9592 entries, 0 to 9592\n",
            "Data columns (total 22 columns):\n",
            " #   Column           Non-Null Count  Dtype  \n",
            "---  ------           --------------  -----  \n",
            " 0   time             9592 non-null   object \n",
            " 1   latitude         9592 non-null   float64\n",
            " 2   longitude        9592 non-null   float64\n",
            " 3   depth            9592 non-null   float64\n",
            " 4   mag              9592 non-null   float64\n",
            " 5   magType          9592 non-null   object \n",
            " 6   nst              8017 non-null   float64\n",
            " 7   gap              8017 non-null   float64\n",
            " 8   dmin             8016 non-null   float64\n",
            " 9   rms              9591 non-null   float64\n",
            " 10  net              9592 non-null   object \n",
            " 11  id               9592 non-null   object \n",
            " 12  updated          9592 non-null   object \n",
            " 13  place            9592 non-null   object \n",
            " 14  type             9592 non-null   object \n",
            " 15  horizontalError  7316 non-null   float64\n",
            " 16  depthError       9591 non-null   float64\n",
            " 17  magError         7994 non-null   float64\n",
            " 18  magNst           8013 non-null   float64\n",
            " 19  status           9592 non-null   object \n",
            " 20  locationSource   9592 non-null   object \n",
            " 21  magSource        9592 non-null   object \n",
            "dtypes: float64(12), object(10)\n",
            "memory usage: 1.7+ MB\n"
          ]
        }
      ]
    },
    {
      "cell_type": "code",
      "source": [
        "#prepare data\n",
        "X = df[features]\n",
        "Y = df[target]\n",
        "# printing x and y\n",
        "print(X.head())\n",
        "print(y.head())"
      ],
      "metadata": {
        "colab": {
          "base_uri": "https://localhost:8080/"
        },
        "id": "I3gjesUIrVCc",
        "outputId": "aa4c32c5-4f2e-45c3-9943-eb310e7f7c4f"
      },
      "execution_count": 14,
      "outputs": [
        {
          "output_type": "stream",
          "name": "stdout",
          "text": [
            "    latitude   longitude  depth\n",
            "0  38.840668 -122.834335   1.32\n",
            "1  61.556800 -141.271600  13.40\n",
            "2  61.789200 -149.608200  38.70\n",
            "3  60.081400 -152.528700  97.80\n",
            "4  35.639833 -117.548500   8.08\n",
            "0    0.53\n",
            "1    1.20\n",
            "2    1.20\n",
            "3    1.40\n",
            "4    0.89\n",
            "Name: mag, dtype: float64\n"
          ]
        }
      ]
    },
    {
      "cell_type": "code",
      "source": [
        "# Normalize features\n",
        "scaler = MinMaxScaler()\n",
        "X_scaled = scaler.fit_transform(X)\n",
        "# printing scaled features\n",
        "print(X_scaled)"
      ],
      "metadata": {
        "colab": {
          "base_uri": "https://localhost:8080/"
        },
        "id": "bJu-4fG-uhBa",
        "outputId": "faf865c0-bd24-4ab5-c7af-b88b41086ab1"
      },
      "execution_count": 20,
      "outputs": [
        {
          "output_type": "stream",
          "name": "stdout",
          "text": [
            "[[0.68435702 0.15879891 0.00739493]\n",
            " [0.83742182 0.10757995 0.02592828]\n",
            " [0.83898777 0.08442076 0.06474399]\n",
            " ...\n",
            " [0.7240133  0.19133964 0.0090212 ]\n",
            " [0.03662389 0.90931204 0.02071194]\n",
            " [0.68785973 0.19113453 0.00443389]]\n"
          ]
        }
      ]
    },
    {
      "cell_type": "code",
      "source": [
        "#split data for training and testing 80/20 ratio\n",
        "X_train, X_test, y_train, y_test = train_test_split(X,y,test_size=0.2, random_state=42)"
      ],
      "metadata": {
        "id": "dzvl9-01wOKn"
      },
      "execution_count": 21,
      "outputs": []
    },
    {
      "cell_type": "code",
      "source": [
        "#normalize features\n",
        "scaler = MinMaxScaler()\n",
        "X_scaled\n"
      ],
      "metadata": {
        "id": "4Jh00R_4wjwY"
      },
      "execution_count": null,
      "outputs": []
    }
  ]
}